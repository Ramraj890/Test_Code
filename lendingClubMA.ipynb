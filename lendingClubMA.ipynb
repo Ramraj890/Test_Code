{
  "nbformat": 4,
  "nbformat_minor": 0,
  "metadata": {
    "colab": {
      "name": "Untitled0 (1).ipynb",
      "provenance": []
    },
    "kernelspec": {
      "name": "python3",
      "display_name": "Python 3"
    },
    "language_info": {
      "name": "python"
    }
  },
  "cells": [
    {
      "cell_type": "code",
      "execution_count": null,
      "metadata": {
        "colab": {
          "base_uri": "https://localhost:8080/"
        },
        "id": "9SE240vGETWL",
        "outputId": "65c923c2-ca63-4c48-f730-b66b0a305e44"
      },
      "outputs": [
        {
          "output_type": "stream",
          "name": "stdout",
          "text": [
            "Hello\n"
          ]
        }
      ],
      "source": [
        "print(\"Hello\")"
      ]
    },
    {
      "cell_type": "code",
      "source": [
        "!java -version"
      ],
      "metadata": {
        "colab": {
          "base_uri": "https://localhost:8080/"
        },
        "id": "jYkHXZ5fFGcS",
        "outputId": "9a26960b-9dd0-405c-b4c9-429904eb4d53"
      },
      "execution_count": null,
      "outputs": [
        {
          "output_type": "stream",
          "name": "stdout",
          "text": [
            "openjdk version \"11.0.15\" 2022-04-19\n",
            "OpenJDK Runtime Environment (build 11.0.15+10-Ubuntu-0ubuntu0.18.04.1)\n",
            "OpenJDK 64-Bit Server VM (build 11.0.15+10-Ubuntu-0ubuntu0.18.04.1, mixed mode, sharing)\n"
          ]
        }
      ]
    },
    {
      "cell_type": "code",
      "source": [
        "!wget q https://dlcdn.apache.org/spark/spark-2.4.8/spark-2.4.8-bin-hadoop2.7.tgz"
      ],
      "metadata": {
        "colab": {
          "base_uri": "https://localhost:8080/"
        },
        "id": "FT0Hs_aAGaup",
        "outputId": "0dcc3129-a4b0-4421-c363-49298bf657c5"
      },
      "execution_count": null,
      "outputs": [
        {
          "output_type": "stream",
          "name": "stdout",
          "text": [
            "--2022-05-26 06:22:24--  http://q/\n",
            "Resolving q (q)... failed: Name or service not known.\n",
            "wget: unable to resolve host address ‘q’\n",
            "--2022-05-26 06:22:24--  https://dlcdn.apache.org/spark/spark-2.4.8/spark-2.4.8-bin-hadoop2.7.tgz\n",
            "Resolving dlcdn.apache.org (dlcdn.apache.org)... 151.101.2.132, 2a04:4e42::644\n",
            "Connecting to dlcdn.apache.org (dlcdn.apache.org)|151.101.2.132|:443... connected.\n",
            "HTTP request sent, awaiting response... 200 OK\n",
            "Length: 235899716 (225M) [application/x-gzip]\n",
            "Saving to: ‘spark-2.4.8-bin-hadoop2.7.tgz.1’\n",
            "\n",
            "spark-2.4.8-bin-had 100%[===================>] 224.97M   176MB/s    in 1.3s    \n",
            "\n",
            "2022-05-26 06:22:26 (176 MB/s) - ‘spark-2.4.8-bin-hadoop2.7.tgz.1’ saved [235899716/235899716]\n",
            "\n",
            "FINISHED --2022-05-26 06:22:26--\n",
            "Total wall clock time: 1.3s\n",
            "Downloaded: 1 files, 225M in 1.3s (176 MB/s)\n"
          ]
        }
      ]
    },
    {
      "cell_type": "code",
      "source": [
        "!tar xf spark-2.4.8-bin-hadoop2.7.tgz"
      ],
      "metadata": {
        "id": "8-Ke-Tt7GqLB"
      },
      "execution_count": null,
      "outputs": []
    },
    {
      "cell_type": "code",
      "source": [
        "!pip install findspark"
      ],
      "metadata": {
        "colab": {
          "base_uri": "https://localhost:8080/"
        },
        "id": "I2xJsqLYG2ED",
        "outputId": "f3ecf362-7db1-4134-b8d5-74ebae686286"
      },
      "execution_count": null,
      "outputs": [
        {
          "output_type": "stream",
          "name": "stdout",
          "text": [
            "Looking in indexes: https://pypi.org/simple, https://us-python.pkg.dev/colab-wheels/public/simple/\n",
            "Requirement already satisfied: findspark in /usr/local/lib/python3.7/dist-packages (2.0.1)\n"
          ]
        }
      ]
    },
    {
      "cell_type": "code",
      "source": [
        "import os\n",
        "os.environ[\"JAVA_HOME\"] = \"/usr/lib/jvm/java-8-openjdk-amd64\"\n",
        "os.environ[\"SPARK_HOME\"] = \"/content/spark-2.4.8-bin-hadoop2.7\"\n"
      ],
      "metadata": {
        "id": "00JLk_ZCJ1oh"
      },
      "execution_count": null,
      "outputs": []
    },
    {
      "cell_type": "code",
      "source": [
        "!apt-get install openjdk-8-jdk-headless -qq > /dev/null"
      ],
      "metadata": {
        "id": "t76ThsqALYtk"
      },
      "execution_count": null,
      "outputs": []
    },
    {
      "cell_type": "code",
      "source": [
        "import findspark\n",
        "findspark.init()\n",
        "from pyspark.sql import SparkSession\n",
        "spark = SparkSession.builder.master(\"local[*]\").getOrCreate()"
      ],
      "metadata": {
        "id": "uR_zIHSAKOGN"
      },
      "execution_count": null,
      "outputs": []
    },
    {
      "cell_type": "code",
      "source": [
        "print(\"spark\")"
      ],
      "metadata": {
        "colab": {
          "base_uri": "https://localhost:8080/"
        },
        "id": "fWkxMCLBV6fu",
        "outputId": "41c29404-7795-4570-b7c4-6d4e00517f93"
      },
      "execution_count": null,
      "outputs": [
        {
          "output_type": "stream",
          "name": "stdout",
          "text": [
            "spark\n"
          ]
        }
      ]
    },
    {
      "cell_type": "code",
      "source": [
        "#from google.colab import files\n",
        "#files.upload()"
      ],
      "metadata": {
        "id": "3DD8_ngxWBvq"
      },
      "execution_count": null,
      "outputs": []
    },
    {
      "cell_type": "code",
      "source": [
        "!pip install pyspark"
      ],
      "metadata": {
        "colab": {
          "base_uri": "https://localhost:8080/",
          "height": 367
        },
        "id": "UKr2FdWiYIvj",
        "outputId": "c0d6c845-4a9a-400b-fafc-626a6f95a3d7"
      },
      "execution_count": null,
      "outputs": [
        {
          "output_type": "stream",
          "name": "stdout",
          "text": [
            "Looking in indexes: https://pypi.org/simple, https://us-python.pkg.dev/colab-wheels/public/simple/\n",
            "Collecting pyspark\n",
            "  Downloading pyspark-3.2.1.tar.gz (281.4 MB)\n",
            "\u001b[K     |████████████████████████████████| 281.4 MB 24 kB/s \n",
            "\u001b[?25hCollecting py4j==0.10.9.3\n",
            "  Downloading py4j-0.10.9.3-py2.py3-none-any.whl (198 kB)\n",
            "\u001b[K     |████████████████████████████████| 198 kB 42.7 MB/s \n",
            "\u001b[?25hBuilding wheels for collected packages: pyspark\n",
            "  Building wheel for pyspark (setup.py) ... \u001b[?25l\u001b[?25hdone\n",
            "  Created wheel for pyspark: filename=pyspark-3.2.1-py2.py3-none-any.whl size=281853642 sha256=9167adccda95bd64bc135bd5a0305c0033ba7f88138b86133d2dbec5a698b6f2\n",
            "  Stored in directory: /root/.cache/pip/wheels/9f/f5/07/7cd8017084dce4e93e84e92efd1e1d5334db05f2e83bcef74f\n",
            "Successfully built pyspark\n",
            "Installing collected packages: py4j, pyspark\n",
            "Successfully installed py4j-0.10.9.3 pyspark-3.2.1\n"
          ]
        },
        {
          "output_type": "display_data",
          "data": {
            "application/vnd.colab-display-data+json": {
              "pip_warning": {
                "packages": [
                  "py4j",
                  "pyspark"
                ]
              }
            }
          },
          "metadata": {}
        }
      ]
    },
    {
      "cell_type": "code",
      "source": [
        "spark.stop()"
      ],
      "metadata": {
        "id": "CdcHVR3dcWDt"
      },
      "execution_count": null,
      "outputs": []
    },
    {
      "cell_type": "code",
      "source": [
        "import pyspark"
      ],
      "metadata": {
        "id": "9vEQ_BzAYp_o"
      },
      "execution_count": null,
      "outputs": []
    },
    {
      "cell_type": "code",
      "source": [
        "from pyspark import SparkContext\n",
        "from pyspark import SparkConf\n",
        "conf = SparkConf()\n",
        "conf.setMaster(\"local\")\n",
        "conf.setAppName(\"testApp\")\n",
        "sc = SparkContext(conf=conf)"
      ],
      "metadata": {
        "id": "tzPeYxItYs4P"
      },
      "execution_count": null,
      "outputs": []
    },
    {
      "cell_type": "code",
      "source": [
        "data= sc.textFile(\"/content/sample_data/rejected_2007_to_2018Q4.csv\")"
      ],
      "metadata": {
        "id": "FfGTqRosnVDc"
      },
      "execution_count": 172,
      "outputs": []
    },
    {
      "cell_type": "code",
      "source": [
        "data.cache()"
      ],
      "metadata": {
        "colab": {
          "base_uri": "https://localhost:8080/"
        },
        "id": "zL4Xd_RBsPku",
        "outputId": "cf8339b2-cdae-4820-8012-0656199d6609"
      },
      "execution_count": 173,
      "outputs": [
        {
          "output_type": "execute_result",
          "data": {
            "text/plain": [
              "/content/sample_data/rejected_2007_to_2018Q4.csv MapPartitionsRDD[225] at textFile at NativeMethodAccessorImpl.java:0"
            ]
          },
          "metadata": {},
          "execution_count": 173
        }
      ]
    },
    {
      "cell_type": "code",
      "source": [
        "from pyspark.sql import SparkSession"
      ],
      "metadata": {
        "id": "Zb_J-xecqlhh"
      },
      "execution_count": 174,
      "outputs": []
    },
    {
      "cell_type": "code",
      "source": [
        "spark = SparkSession.builder.master(\"local[*]\").getOrCreate()\n"
      ],
      "metadata": {
        "id": "GMWSdm2dnzYm"
      },
      "execution_count": null,
      "outputs": []
    },
    {
      "cell_type": "code",
      "source": [
        "data.count()"
      ],
      "metadata": {
        "colab": {
          "base_uri": "https://localhost:8080/"
        },
        "id": "S0AmlcVksTA6",
        "outputId": "92540f19-ac12-4da5-c163-588e77f2b8b9"
      },
      "execution_count": 175,
      "outputs": [
        {
          "output_type": "execute_result",
          "data": {
            "text/plain": [
              "21342776"
            ]
          },
          "metadata": {},
          "execution_count": 175
        }
      ]
    },
    {
      "cell_type": "code",
      "source": [
        "parData = data.getNumPartitions()"
      ],
      "metadata": {
        "id": "70CP5jO3rX0y"
      },
      "execution_count": 176,
      "outputs": []
    },
    {
      "cell_type": "code",
      "source": [
        "print(parData)"
      ],
      "metadata": {
        "colab": {
          "base_uri": "https://localhost:8080/"
        },
        "id": "bIR6ojNFsn_2",
        "outputId": "f4ff7b50-cf42-4c86-becc-fb42fbcfa538"
      },
      "execution_count": 177,
      "outputs": [
        {
          "output_type": "stream",
          "name": "stdout",
          "text": [
            "41\n"
          ]
        }
      ]
    },
    {
      "cell_type": "code",
      "source": [
        "rePartitionData=data.repartition(500)"
      ],
      "metadata": {
        "id": "xupeHOIssrWa"
      },
      "execution_count": 179,
      "outputs": []
    },
    {
      "cell_type": "code",
      "source": [
        "dataSchema= spark.read.csv(\"/content/sample_data/rejected_2007_to_2018Q4.csv\",sep=\",\", inferSchema=True, header=True)"
      ],
      "metadata": {
        "id": "zE2e8oHptJlT"
      },
      "execution_count": 188,
      "outputs": []
    },
    {
      "cell_type": "code",
      "source": [
        "dataSchema.show(5)"
      ],
      "metadata": {
        "colab": {
          "base_uri": "https://localhost:8080/"
        },
        "id": "jGm3OZ4Ntrrc",
        "outputId": "a9959268-92e8-4b70-ee41-3aa7fbb66aea"
      },
      "execution_count": 189,
      "outputs": [
        {
          "output_type": "stream",
          "name": "stdout",
          "text": [
            "+----------------+-------------------+--------------------+----------+--------------------+--------+-----+-----------------+-----------+\n",
            "|Amount Requested|   Application Date|          Loan Title|Risk_Score|Debt-To-Income Ratio|Zip Code|State|Employment Length|Policy Code|\n",
            "+----------------+-------------------+--------------------+----------+--------------------+--------+-----+-----------------+-----------+\n",
            "|          1000.0|2007-05-26 00:00:00|Wedding Covered b...|     693.0|                 10%|   481xx|   NM|          4 years|        0.0|\n",
            "|          1000.0|2007-05-26 00:00:00|  Consolidating Debt|     703.0|                 10%|   010xx|   MA|         < 1 year|        0.0|\n",
            "|         11000.0|2007-05-27 00:00:00|Want to consolida...|     715.0|                 10%|   212xx|   MD|           1 year|        0.0|\n",
            "|          6000.0|2007-05-27 00:00:00|             waksman|     698.0|              38.64%|   017xx|   MA|         < 1 year|        0.0|\n",
            "|          1500.0|2007-05-27 00:00:00|              mdrigo|     509.0|               9.43%|   209xx|   MD|         < 1 year|        0.0|\n",
            "+----------------+-------------------+--------------------+----------+--------------------+--------+-----+-----------------+-----------+\n",
            "only showing top 5 rows\n",
            "\n"
          ]
        }
      ]
    },
    {
      "cell_type": "code",
      "source": [
        "from pyspark.sql.functions import avg\n",
        "from pyspark.sql.functions import window\n",
        "from pyspark.sql.functions import col\n",
        "from pyspark.sql import functions as F\n",
        "from pyspark.sql.window import Window\n",
        "import datetime\n",
        "from pyspark.sql.functions import year, month, dayofmonth"
      ],
      "metadata": {
        "id": "cQN3pzmru0KV"
      },
      "execution_count": 190,
      "outputs": []
    },
    {
      "cell_type": "code",
      "source": [
        "tblColData=dataSchema.withColumn('Application Date',F.year(F.to_timestamp('Application Date', 'yyyy')))"
      ],
      "metadata": {
        "id": "6RuYXS3fxwSb"
      },
      "execution_count": 186,
      "outputs": []
    },
    {
      "cell_type": "code",
      "source": [
        "tblColData.show(5)"
      ],
      "metadata": {
        "id": "HYIsOYI84qVG",
        "colab": {
          "base_uri": "https://localhost:8080/"
        },
        "outputId": "5c5093c5-edde-4279-b64d-798def22411a"
      },
      "execution_count": 191,
      "outputs": [
        {
          "output_type": "stream",
          "name": "stdout",
          "text": [
            "+----------------+----------------+------------------+----------+--------------------+--------+-----+-----------------+-----------+\n",
            "|Amount Requested|Application Date|        Loan Title|Risk_Score|Debt-To-Income Ratio|Zip Code|State|Employment Length|Policy Code|\n",
            "+----------------+----------------+------------------+----------+--------------------+--------+-----+-----------------+-----------+\n",
            "|          2000.0|            2016|debt_consolidation|      null|               4.24%|   891xx|   NV|         < 1 year|        0.0|\n",
            "|          5000.0|            2016|debt_consolidation|      null|                  0%|   918xx|   CA|         < 1 year|        0.0|\n",
            "|          8775.0|            2016|debt_consolidation|      null|              13.82%|   380xx|   TN|          5 years|        0.0|\n",
            "|          1000.0|            2016|    small_business|      null|              16.67%|   392xx|   MS|         < 1 year|        0.0|\n",
            "|         10000.0|            2016|debt_consolidation|      null|               33.8%|   453xx|   OH|         < 1 year|        0.0|\n",
            "+----------------+----------------+------------------+----------+--------------------+--------+-----+-----------------+-----------+\n",
            "only showing top 5 rows\n",
            "\n"
          ]
        }
      ]
    },
    {
      "cell_type": "code",
      "source": [
        "tblColData1=tblColData.withColumnRenamed(\"Application Date\",\"ApplicationDate\")"
      ],
      "metadata": {
        "id": "7tVhMFtT6TwO"
      },
      "execution_count": 193,
      "outputs": []
    },
    {
      "cell_type": "code",
      "source": [
        "dataYear=tblColData1.filter(tblColData1.ApplicationDate >= 2009)"
      ],
      "metadata": {
        "id": "eTWMecTy6_Md"
      },
      "execution_count": 209,
      "outputs": []
    },
    {
      "cell_type": "code",
      "source": [
        "dataYear.show(4)"
      ],
      "metadata": {
        "colab": {
          "base_uri": "https://localhost:8080/"
        },
        "id": "2JPbLg6rnViq",
        "outputId": "a0bbca42-b1cd-4fc2-a802-ce45bdd44234"
      },
      "execution_count": 210,
      "outputs": [
        {
          "output_type": "stream",
          "name": "stdout",
          "text": [
            "+----------------+---------------+------------------+----------+--------------------+--------+-----+-----------------+-----------+\n",
            "|Amount Requested|ApplicationDate|        Loan Title|Risk_Score|Debt-To-Income Ratio|Zip Code|State|Employment Length|Policy Code|\n",
            "+----------------+---------------+------------------+----------+--------------------+--------+-----+-----------------+-----------+\n",
            "|          8000.0|           2011|       Temp Relief|     771.0|               6.91%|   333xx|   FL|        10+ years|        0.0|\n",
            "|          2000.0|           2011|debt_consolidation|     589.0|              27.73%|   322xx|   FL|         < 1 year|        0.0|\n",
            "|         30000.0|           2012|  home_improvement|       0.0|                  0%|   152xx|   PA|         < 1 year|        0.0|\n",
            "|         12000.0|           2010|       credit_card|     549.0|              32.74%|   773xx|   TX|          7 years|        0.0|\n",
            "+----------------+---------------+------------------+----------+--------------------+--------+-----+-----------------+-----------+\n",
            "only showing top 4 rows\n",
            "\n"
          ]
        }
      ]
    },
    {
      "cell_type": "code",
      "source": [
        "tblColRe=dataYear.withColumnRenamed('ApplicationDate','Application Date')"
      ],
      "metadata": {
        "id": "26cagmHVnn0l"
      },
      "execution_count": 211,
      "outputs": []
    },
    {
      "cell_type": "code",
      "source": [
        "tblColRe.show(5)"
      ],
      "metadata": {
        "colab": {
          "base_uri": "https://localhost:8080/"
        },
        "id": "2kNdUuHAo1Fm",
        "outputId": "465252a7-a75e-46a8-f052-c52b2f0fb961"
      },
      "execution_count": 212,
      "outputs": [
        {
          "output_type": "stream",
          "name": "stdout",
          "text": [
            "+----------------+----------------+------------------+----------+--------------------+--------+-----+-----------------+-----------+\n",
            "|Amount Requested|Application Date|        Loan Title|Risk_Score|Debt-To-Income Ratio|Zip Code|State|Employment Length|Policy Code|\n",
            "+----------------+----------------+------------------+----------+--------------------+--------+-----+-----------------+-----------+\n",
            "|          8000.0|            2011|       Temp Relief|     771.0|               6.91%|   333xx|   FL|        10+ years|        0.0|\n",
            "|          2000.0|            2011|debt_consolidation|     589.0|              27.73%|   322xx|   FL|         < 1 year|        0.0|\n",
            "|         30000.0|            2012|  home_improvement|       0.0|                  0%|   152xx|   PA|         < 1 year|        0.0|\n",
            "|         12000.0|            2010|       credit_card|     549.0|              32.74%|   773xx|   TX|          7 years|        0.0|\n",
            "|          5800.0|            2016|       credit_card|      null|              32.04%|   330xx|   FL|         < 1 year|        0.0|\n",
            "+----------------+----------------+------------------+----------+--------------------+--------+-----+-----------------+-----------+\n",
            "only showing top 5 rows\n",
            "\n"
          ]
        }
      ]
    },
    {
      "cell_type": "code",
      "source": [
        "\n",
        "movAvg=tblColRe.withColumn(\"RiskScoreMA100. \", avg(tblColRe[\"Risk_Score\"]).over(Window.partitionBy(\"Application Date\").rowsBetween(-100,1)) )\n"
      ],
      "metadata": {
        "id": "ojhSoYtypTOJ"
      },
      "execution_count": 213,
      "outputs": []
    },
    {
      "cell_type": "code",
      "source": [
        "movAvg.show()"
      ],
      "metadata": {
        "id": "3zCSrJzSphEb",
        "colab": {
          "base_uri": "https://localhost:8080/"
        },
        "outputId": "af4b9706-2f4a-4d54-9dab-3d821d782742"
      },
      "execution_count": 214,
      "outputs": [
        {
          "output_type": "stream",
          "name": "stdout",
          "text": [
            "+----------------+----------------+--------------------+----------+--------------------+--------+-----+-----------------+-----------+-----------------+\n",
            "|Amount Requested|Application Date|          Loan Title|Risk_Score|Debt-To-Income Ratio|Zip Code|State|Employment Length|Policy Code| RiskScoreMA100. |\n",
            "+----------------+----------------+--------------------+----------+--------------------+--------+-----+-----------------+-----------+-----------------+\n",
            "|          2000.0|            2018|               Other|     600.0|                  0%|   154xx|   PA|         < 1 year|        0.0|            600.0|\n",
            "|          5000.0|            2018|  Debt consolidation|      null|              11.29%|   161xx|   PA|         < 1 year|        0.0|            600.0|\n",
            "|          6500.0|            2018|  Debt consolidation|      null|               7.63%|   544xx|   WI|          2 years|        0.0|            573.5|\n",
            "|          5000.0|            2018|    Home improvement|     547.0|              13.09%|   067xx|   CT|         < 1 year|        0.0|            573.5|\n",
            "|          9000.0|            2018|  Debt consolidation|      null|              28.16%|   959xx|   CA|         < 1 year|        0.0|            573.5|\n",
            "|          5000.0|            2018|  Debt consolidation|      null|               8.77%|   928xx|   CA|         < 1 year|        0.0|            573.5|\n",
            "|          5000.0|            2018|  Debt consolidation|      null|              10.14%|   939xx|   CA|         < 1 year|        0.0|            573.5|\n",
            "|         11000.0|            2018|  Debt consolidation|      null|              37.51%|   299xx|   SC|         < 1 year|        0.0|            573.5|\n",
            "|          5000.0|            2018|Credit card refin...|      null|              45.13%|   750xx|   TX|         < 1 year|        0.0|            573.5|\n",
            "|          5000.0|            2018|Credit card refin...|      null|             336.54%|   395xx|   MS|         < 1 year|        0.0|            573.5|\n",
            "|          4000.0|            2018|  Debt consolidation|      null|              11.28%|   297xx|   SC|         < 1 year|        0.0|            573.5|\n",
            "|          5000.0|            2018|    Home improvement|      null|              15.27%|   207xx|   MD|         < 1 year|        0.0|            573.5|\n",
            "|         12500.0|            2018|Credit card refin...|      null|                 12%|   221xx|   VA|         < 1 year|        0.0|            573.5|\n",
            "|         20000.0|            2018|  Debt consolidation|      null|              19.74%|   891xx|   NV|         < 1 year|        0.0|611.3333333333334|\n",
            "|         20000.0|            2018|  Debt consolidation|     687.0|              12.26%|   973xx|   OR|        10+ years|        0.0|611.3333333333334|\n",
            "|          3000.0|            2018|       Car financing|      null|               1.09%|   936xx|   CA|         < 1 year|        0.0|611.3333333333334|\n",
            "|         35000.0|            2018|  Debt consolidation|      null|              31.52%|   370xx|   TN|         < 1 year|        0.0|611.3333333333334|\n",
            "|         12000.0|            2018|Credit card refin...|      null|               9.49%|   551xx|   MN|         < 1 year|        0.0|611.3333333333334|\n",
            "|          5000.0|            2018|               Other|      null|              17.64%|   605xx|   IL|         < 1 year|        0.0|611.3333333333334|\n",
            "|          7000.0|            2018|  Debt consolidation|      null|              22.08%|   325xx|   FL|         < 1 year|        0.0|           619.25|\n",
            "+----------------+----------------+--------------------+----------+--------------------+--------+-----+-----------------+-----------+-----------------+\n",
            "only showing top 20 rows\n",
            "\n"
          ]
        }
      ]
    },
    {
      "cell_type": "code",
      "source": [
        "movAvg.write.csv('/content/sample_data/MovingAverage100.csv')"
      ],
      "metadata": {
        "id": "HqkuoCh9W-xW"
      },
      "execution_count": 219,
      "outputs": []
    },
    {
      "cell_type": "code",
      "source": [
        ""
      ],
      "metadata": {
        "id": "3-GSWjOmVQup"
      },
      "execution_count": null,
      "outputs": []
    }
  ]
}